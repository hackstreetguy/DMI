{
  "nbformat": 4,
  "nbformat_minor": 0,
  "metadata": {
    "colab": {
      "name": "A One-Class Classification decision Tree based on kernel density estimation.ipynb",
      "provenance": []
    },
    "kernelspec": {
      "name": "python3",
      "display_name": "Python 3"
    },
    "language_info": {
      "name": "python"
    }
  },
  "cells": [
    {
      "cell_type": "markdown",
      "metadata": {
        "id": "8Xk0OL_RKQnM"
      },
      "source": [
        "#**A One-Class Classification decision Tree based on kernel density estimation**"
      ]
    },
    {
      "cell_type": "code",
      "metadata": {
        "id": "PiQ3KXKOKSes"
      },
      "source": [
        "# importing necessary libraries\n",
        "import math\n",
        "import warnings\n",
        "import numpy as np\n",
        "import pandas as pd\n",
        "from sklearn.model_selection import train_test_split as tts\n",
        "from sklearn.metrics import classification_report"
      ],
      "execution_count": 1,
      "outputs": []
    },
    {
      "cell_type": "code",
      "metadata": {
        "id": "exJq3deoK0M6"
      },
      "source": [
        "warnings.filterwarnings(\"ignore\") #to avoid warnings"
      ],
      "execution_count": 2,
      "outputs": []
    },
    {
      "cell_type": "code",
      "metadata": {
        "id": "SRMHREPxLBX4"
      },
      "source": [
        "letters = pd.read_csv(\"letter-recognition.csv\")"
      ],
      "execution_count": 3,
      "outputs": []
    },
    {
      "cell_type": "code",
      "metadata": {
        "id": "jb84JsxYLRQT"
      },
      "source": [
        "letters.columns = ['label', 'xbox', 'ybox', 'width', 'height', 'onpix', 'xbar','ybar', 'x2bar', 'y2bar', 'xybar', 'x2ybar', 'xy2bar', 'xedge','xedgey', 'yedge', 'yedgex']\n"
      ],
      "execution_count": 4,
      "outputs": []
    },
    {
      "cell_type": "code",
      "metadata": {
        "colab": {
          "base_uri": "https://localhost:8080/",
          "height": 439
        },
        "id": "ipWthBCZLYgK",
        "outputId": "888779fb-b417-4ca8-fcc9-8fc44d58bb1b"
      },
      "source": [
        "letters"
      ],
      "execution_count": 5,
      "outputs": [
        {
          "output_type": "execute_result",
          "data": {
            "text/html": [
              "<div>\n",
              "<style scoped>\n",
              "    .dataframe tbody tr th:only-of-type {\n",
              "        vertical-align: middle;\n",
              "    }\n",
              "\n",
              "    .dataframe tbody tr th {\n",
              "        vertical-align: top;\n",
              "    }\n",
              "\n",
              "    .dataframe thead th {\n",
              "        text-align: right;\n",
              "    }\n",
              "</style>\n",
              "<table border=\"1\" class=\"dataframe\">\n",
              "  <thead>\n",
              "    <tr style=\"text-align: right;\">\n",
              "      <th></th>\n",
              "      <th>label</th>\n",
              "      <th>xbox</th>\n",
              "      <th>ybox</th>\n",
              "      <th>width</th>\n",
              "      <th>height</th>\n",
              "      <th>onpix</th>\n",
              "      <th>xbar</th>\n",
              "      <th>ybar</th>\n",
              "      <th>x2bar</th>\n",
              "      <th>y2bar</th>\n",
              "      <th>xybar</th>\n",
              "      <th>x2ybar</th>\n",
              "      <th>xy2bar</th>\n",
              "      <th>xedge</th>\n",
              "      <th>xedgey</th>\n",
              "      <th>yedge</th>\n",
              "      <th>yedgex</th>\n",
              "    </tr>\n",
              "  </thead>\n",
              "  <tbody>\n",
              "    <tr>\n",
              "      <th>0</th>\n",
              "      <td>I</td>\n",
              "      <td>5</td>\n",
              "      <td>12</td>\n",
              "      <td>3</td>\n",
              "      <td>7</td>\n",
              "      <td>2</td>\n",
              "      <td>10</td>\n",
              "      <td>5</td>\n",
              "      <td>5</td>\n",
              "      <td>4</td>\n",
              "      <td>13</td>\n",
              "      <td>3</td>\n",
              "      <td>9</td>\n",
              "      <td>2</td>\n",
              "      <td>8</td>\n",
              "      <td>4</td>\n",
              "      <td>10</td>\n",
              "    </tr>\n",
              "    <tr>\n",
              "      <th>1</th>\n",
              "      <td>D</td>\n",
              "      <td>4</td>\n",
              "      <td>11</td>\n",
              "      <td>6</td>\n",
              "      <td>8</td>\n",
              "      <td>6</td>\n",
              "      <td>10</td>\n",
              "      <td>6</td>\n",
              "      <td>2</td>\n",
              "      <td>6</td>\n",
              "      <td>10</td>\n",
              "      <td>3</td>\n",
              "      <td>7</td>\n",
              "      <td>3</td>\n",
              "      <td>7</td>\n",
              "      <td>3</td>\n",
              "      <td>9</td>\n",
              "    </tr>\n",
              "    <tr>\n",
              "      <th>2</th>\n",
              "      <td>N</td>\n",
              "      <td>7</td>\n",
              "      <td>11</td>\n",
              "      <td>6</td>\n",
              "      <td>6</td>\n",
              "      <td>3</td>\n",
              "      <td>5</td>\n",
              "      <td>9</td>\n",
              "      <td>4</td>\n",
              "      <td>6</td>\n",
              "      <td>4</td>\n",
              "      <td>4</td>\n",
              "      <td>10</td>\n",
              "      <td>6</td>\n",
              "      <td>10</td>\n",
              "      <td>2</td>\n",
              "      <td>8</td>\n",
              "    </tr>\n",
              "    <tr>\n",
              "      <th>3</th>\n",
              "      <td>G</td>\n",
              "      <td>2</td>\n",
              "      <td>1</td>\n",
              "      <td>3</td>\n",
              "      <td>1</td>\n",
              "      <td>1</td>\n",
              "      <td>8</td>\n",
              "      <td>6</td>\n",
              "      <td>6</td>\n",
              "      <td>6</td>\n",
              "      <td>6</td>\n",
              "      <td>5</td>\n",
              "      <td>9</td>\n",
              "      <td>1</td>\n",
              "      <td>7</td>\n",
              "      <td>5</td>\n",
              "      <td>10</td>\n",
              "    </tr>\n",
              "    <tr>\n",
              "      <th>4</th>\n",
              "      <td>S</td>\n",
              "      <td>4</td>\n",
              "      <td>11</td>\n",
              "      <td>5</td>\n",
              "      <td>8</td>\n",
              "      <td>3</td>\n",
              "      <td>8</td>\n",
              "      <td>8</td>\n",
              "      <td>6</td>\n",
              "      <td>9</td>\n",
              "      <td>5</td>\n",
              "      <td>6</td>\n",
              "      <td>6</td>\n",
              "      <td>0</td>\n",
              "      <td>8</td>\n",
              "      <td>9</td>\n",
              "      <td>7</td>\n",
              "    </tr>\n",
              "    <tr>\n",
              "      <th>...</th>\n",
              "      <td>...</td>\n",
              "      <td>...</td>\n",
              "      <td>...</td>\n",
              "      <td>...</td>\n",
              "      <td>...</td>\n",
              "      <td>...</td>\n",
              "      <td>...</td>\n",
              "      <td>...</td>\n",
              "      <td>...</td>\n",
              "      <td>...</td>\n",
              "      <td>...</td>\n",
              "      <td>...</td>\n",
              "      <td>...</td>\n",
              "      <td>...</td>\n",
              "      <td>...</td>\n",
              "      <td>...</td>\n",
              "      <td>...</td>\n",
              "    </tr>\n",
              "    <tr>\n",
              "      <th>19994</th>\n",
              "      <td>D</td>\n",
              "      <td>2</td>\n",
              "      <td>2</td>\n",
              "      <td>3</td>\n",
              "      <td>3</td>\n",
              "      <td>2</td>\n",
              "      <td>7</td>\n",
              "      <td>7</td>\n",
              "      <td>7</td>\n",
              "      <td>6</td>\n",
              "      <td>6</td>\n",
              "      <td>6</td>\n",
              "      <td>4</td>\n",
              "      <td>2</td>\n",
              "      <td>8</td>\n",
              "      <td>3</td>\n",
              "      <td>7</td>\n",
              "    </tr>\n",
              "    <tr>\n",
              "      <th>19995</th>\n",
              "      <td>C</td>\n",
              "      <td>7</td>\n",
              "      <td>10</td>\n",
              "      <td>8</td>\n",
              "      <td>8</td>\n",
              "      <td>4</td>\n",
              "      <td>4</td>\n",
              "      <td>8</td>\n",
              "      <td>6</td>\n",
              "      <td>9</td>\n",
              "      <td>12</td>\n",
              "      <td>9</td>\n",
              "      <td>13</td>\n",
              "      <td>2</td>\n",
              "      <td>9</td>\n",
              "      <td>3</td>\n",
              "      <td>7</td>\n",
              "    </tr>\n",
              "    <tr>\n",
              "      <th>19996</th>\n",
              "      <td>T</td>\n",
              "      <td>6</td>\n",
              "      <td>9</td>\n",
              "      <td>6</td>\n",
              "      <td>7</td>\n",
              "      <td>5</td>\n",
              "      <td>6</td>\n",
              "      <td>11</td>\n",
              "      <td>3</td>\n",
              "      <td>7</td>\n",
              "      <td>11</td>\n",
              "      <td>9</td>\n",
              "      <td>5</td>\n",
              "      <td>2</td>\n",
              "      <td>12</td>\n",
              "      <td>2</td>\n",
              "      <td>4</td>\n",
              "    </tr>\n",
              "    <tr>\n",
              "      <th>19997</th>\n",
              "      <td>S</td>\n",
              "      <td>2</td>\n",
              "      <td>3</td>\n",
              "      <td>4</td>\n",
              "      <td>2</td>\n",
              "      <td>1</td>\n",
              "      <td>8</td>\n",
              "      <td>7</td>\n",
              "      <td>2</td>\n",
              "      <td>6</td>\n",
              "      <td>10</td>\n",
              "      <td>6</td>\n",
              "      <td>8</td>\n",
              "      <td>1</td>\n",
              "      <td>9</td>\n",
              "      <td>5</td>\n",
              "      <td>8</td>\n",
              "    </tr>\n",
              "    <tr>\n",
              "      <th>19998</th>\n",
              "      <td>A</td>\n",
              "      <td>4</td>\n",
              "      <td>9</td>\n",
              "      <td>6</td>\n",
              "      <td>6</td>\n",
              "      <td>2</td>\n",
              "      <td>9</td>\n",
              "      <td>5</td>\n",
              "      <td>3</td>\n",
              "      <td>1</td>\n",
              "      <td>8</td>\n",
              "      <td>1</td>\n",
              "      <td>8</td>\n",
              "      <td>2</td>\n",
              "      <td>7</td>\n",
              "      <td>2</td>\n",
              "      <td>8</td>\n",
              "    </tr>\n",
              "  </tbody>\n",
              "</table>\n",
              "<p>19999 rows × 17 columns</p>\n",
              "</div>"
            ],
            "text/plain": [
              "      label  xbox  ybox  width  height  ...  xy2bar  xedge  xedgey  yedge  yedgex\n",
              "0         I     5    12      3       7  ...       9      2       8      4      10\n",
              "1         D     4    11      6       8  ...       7      3       7      3       9\n",
              "2         N     7    11      6       6  ...      10      6      10      2       8\n",
              "3         G     2     1      3       1  ...       9      1       7      5      10\n",
              "4         S     4    11      5       8  ...       6      0       8      9       7\n",
              "...     ...   ...   ...    ...     ...  ...     ...    ...     ...    ...     ...\n",
              "19994     D     2     2      3       3  ...       4      2       8      3       7\n",
              "19995     C     7    10      8       8  ...      13      2       9      3       7\n",
              "19996     T     6     9      6       7  ...       5      2      12      2       4\n",
              "19997     S     2     3      4       2  ...       8      1       9      5       8\n",
              "19998     A     4     9      6       6  ...       8      2       7      2       8\n",
              "\n",
              "[19999 rows x 17 columns]"
            ]
          },
          "metadata": {
            "tags": []
          },
          "execution_count": 5
        }
      ]
    },
    {
      "cell_type": "code",
      "metadata": {
        "id": "g5ST9U80LbH5"
      },
      "source": [
        "class Node:\n",
        "    def __init__(self, L, R, a_prime):\n",
        "        self.L = L\n",
        "        self.R = R\n",
        "        self.a_prime = a_prime\n",
        "        self.children = []"
      ],
      "execution_count": 6,
      "outputs": []
    },
    {
      "cell_type": "code",
      "metadata": {
        "id": "KVe4Q1jpMA-7"
      },
      "source": [
        "class Tree:\n",
        "    def __init__(self, X, y, gamma, alpha, beta, nu):\n",
        "        self.gamma = gamma\n",
        "        self.alpha = alpha\n",
        "        self.beta = beta\n",
        "        self.nu = nu\n",
        "        self.n_samples, self.n_features = X.shape\n",
        "        self.A = X.columns\n",
        "        eligible = dict((a, True) for a in self.A)\n",
        "        X = X\n",
        "        self.root = self.build_tree(float('-inf'), float('inf'), X, 0, eligible)\n",
        "    \n",
        "    def build_tree(self, left, right, X, prev_A_tr, eligible):\n",
        "        \n",
        "        # 2.5 Stopping Conditions\n",
        "        n_t = len(X)\n",
        "\n",
        "        if n_t == 0:\n",
        "            return None\n",
        "\n",
        "        min_proxy_impurity_decrease = float('inf')\n",
        "        a_t = None\n",
        "        children = None\n",
        "        Y_t = None\n",
        "\n",
        "        for a in self.A:\n",
        "            # 2.4 Pre-pruning mechanism\n",
        "            if eligible[a] == False:\n",
        "                continue\n",
        "\n",
        "            if len(np.unique(X[a])) == 1:\n",
        "                continue\n",
        "            \n",
        "            # 2.1 Density Estimation\n",
        "            f, x = self.kernelDensityEstimator(X, a)\n",
        "\n",
        "            # 2.2 Division\n",
        "            # (a) Clipping KDE\n",
        "            threshold = self.gamma * max(f)\n",
        "\n",
        "            Y = []\n",
        "            i = 0\n",
        "            while i < len(f):\n",
        "                while i < len(f) and f[i] < threshold:\n",
        "                    i += 1\n",
        "\n",
        "                if i == len(f):\n",
        "                    break\n",
        "\n",
        "                l = i\n",
        "                i += 1\n",
        "\n",
        "                while i < len(f) and f[i] >= threshold:\n",
        "                    i += 1\n",
        "                \n",
        "                r = i - 1\n",
        "                Y.append([l, r])\n",
        "                i += 1\n",
        "\n",
        "            # (b) Revision\n",
        "            Y_prime = []\n",
        "            for [l, r] in Y:\n",
        "                i = l + 1\n",
        "                L, R = l, r\n",
        "                while i < r:\n",
        "                    while i < r and f[i] < f[i + 1]:\n",
        "                        i += 1\n",
        "                    \n",
        "                    if i == r:\n",
        "                        continue\n",
        "                    \n",
        "                    maxima1 = i\n",
        "                    i += 1\n",
        "\n",
        "                    while i < r and f[i] > f[i + 1]:\n",
        "                        i += 1\n",
        "                    \n",
        "                    if i == r:\n",
        "                        continue\n",
        "\n",
        "                    minima = i\n",
        "                    i += 1\n",
        "\n",
        "                    while i < r and f[i] < f[i + 1]:\n",
        "                        i += 1\n",
        "\n",
        "                    if i == r:\n",
        "                        continue\n",
        "\n",
        "                    maxima2 = i\n",
        "                    \n",
        "                    if f[minima] <= alpha * min(f[maxima1], f[maxima2]):\n",
        "                        Y_prime.append([L, i])\n",
        "                        L = i\n",
        "                Y_prime.append([L, R])\n",
        "            \n",
        "\n",
        "            # (c) Assessment\n",
        "            Y_prime[:] = [[l, r] for [l,r] in Y_prime if len(X.loc[(x[l] <= X[a]) & (X[a] <= x[r])]) > self.beta * self.n_samples]\n",
        "\n",
        "            Y_prime_prime = []\n",
        "            for [l, r] in Y_prime:\n",
        "                sub_interval = X.loc[(x[l] <= X[a]) & (X[a] <= x[r])]\n",
        "                Y_prime_prime.append([sub_interval[a].min(), sub_interval[a].max()])\n",
        "\n",
        "            # 2.3 Impurity Decrease\n",
        "            proxy_impurity_decrease = 0\n",
        "            for [l_val, r_val] in Y_prime_prime:\n",
        "                # print(l_val, r_val)\n",
        "                n_t_i = len(X.loc[(l_val <= X[a]) & (X[a] <= r_val)])\n",
        "                n_t_i_prime = n_t_i * (r_val - l_val) / (X[a].max() - X[a].min())\n",
        "                proxy_impurity_decrease += (n_t_i * n_t_i_prime) / (n_t_i + n_t_i_prime)\n",
        "\n",
        "\n",
        "            if proxy_impurity_decrease < min_proxy_impurity_decrease:\n",
        "                min_proxy_impurity_decrease = proxy_impurity_decrease\n",
        "                a_t = a\n",
        "                Y_t = Y_prime_prime\n",
        "\n",
        "        if a_t and len(Y_t) > 0:\n",
        "            A_tr = len(X.loc[(Y_t[0][0] <= X[a]) & (X[a] <= Y_t[-1][1])]) / len(X)\n",
        "            if A_tr == prev_A_tr:\n",
        "                return None\n",
        "            root = Node(left, right, a_t)\n",
        "            eligible[a] = False\n",
        "            for [l, r] in Y_t:\n",
        "                child = self.build_tree(l, r, X.loc[(l <= X[a]) & (X[a] <= r)], A_tr, eligible)\n",
        "                if child:\n",
        "                    root.children.append(child)\n",
        "        else:\n",
        "            root = None\n",
        "\n",
        "        return root\n",
        "\n",
        "    # FUNCTION FOR KERNEL DENSITY ESTIMATION\n",
        "    def kernelDensityEstimator(self, X, a):\n",
        "        n_t = len(X)\n",
        "        Q1 = X[a].quantile(0.25)\n",
        "        Q3 = X[a].quantile(0.75)\n",
        "        IQR = Q3 - Q1\n",
        "\n",
        "        if IQR != 0:\n",
        "            h_t = 0.9 * min(X[a].std(), IQR / 1.34) * (n_t ** (-1 / 5))\n",
        "        else:\n",
        "            h_t = 0.9 * X[a].std() * (n_t ** (-1 / 5))\n",
        "\n",
        "        lo, hi = X[a].min(), X[a].max()\n",
        "        x, f = [], []\n",
        "        density_points = 512\n",
        "        increment = (hi - lo) / density_points\n",
        "\n",
        "        i = lo\n",
        "        while i <= hi:\n",
        "            x.append(i)\n",
        "            i += increment\n",
        "\n",
        "        for z in x:\n",
        "            f.append(0)\n",
        "            for x_i in X[a]:\n",
        "                f[-1] += self.K((z - x_i) / h_t)\n",
        "            f[-1] = (1 / (n_t * h_t)) * f[-1]\n",
        "\n",
        "        return f, x\n",
        "    \n",
        "\n",
        "    def K(self, y):\n",
        "        return 1 / math.sqrt(2 * math.pi) * math.exp(-(y ** 2) / 2)\n",
        "    \n",
        "\n",
        "    def predict(self, X):\n",
        "        predictions = []\n",
        "        for i, x in X.iterrows():\n",
        "            copy = self.root\n",
        "            predictions.append(self.make_prediction(x, copy))\n",
        "\n",
        "        return predictions\n",
        "    \n",
        "    def make_prediction(self, x, root):\n",
        "        if len(root.children) == 0:\n",
        "            return 1\n",
        "\n",
        "        for child in root.children:\n",
        "            if root.L <= x[root.a_prime] <= root.R:\n",
        "                return self.make_prediction(x, child)\n",
        "\n",
        "        return 0"
      ],
      "execution_count": 7,
      "outputs": []
    },
    {
      "cell_type": "code",
      "metadata": {
        "id": "hGwdiQ2geS8a"
      },
      "source": [
        "class oneClassClassification:\n",
        "    def __init__(self, alpha, beta, gamma, nu):\n",
        "        self.gamma = gamma\n",
        "        self.alpha = alpha\n",
        "        self.beta = beta\n",
        "        self.nu = nu\n",
        "\n",
        "    def fitFunc(self, X, y):\n",
        "        self.tree = Tree(X, y, gamma, alpha, beta, nu)\n",
        "\n",
        "    def predict(self, X):\n",
        "        return self.tree.predict(X)"
      ],
      "execution_count": 8,
      "outputs": []
    },
    {
      "cell_type": "code",
      "metadata": {
        "colab": {
          "base_uri": "https://localhost:8080/"
        },
        "id": "rZPxiKVYzvAp",
        "outputId": "159f1e8e-e7c6-41c8-8216-cde16ddb4439"
      },
      "source": [
        "# TRAINING OF DATASETS FOR DIFFERENT NOISE LEVELS\n",
        "target_class = 'A'\n",
        "letters['label'] = (letters['label'] == target_class).astype(int)\n",
        "\n",
        "print(\"DATASET -------------\")\n",
        "print()\n",
        "print(letters)"
      ],
      "execution_count": 9,
      "outputs": [
        {
          "output_type": "stream",
          "text": [
            "DATASET -------------\n",
            "\n",
            "       label  xbox  ybox  width  height  ...  xy2bar  xedge  xedgey  yedge  yedgex\n",
            "0          0     5    12      3       7  ...       9      2       8      4      10\n",
            "1          0     4    11      6       8  ...       7      3       7      3       9\n",
            "2          0     7    11      6       6  ...      10      6      10      2       8\n",
            "3          0     2     1      3       1  ...       9      1       7      5      10\n",
            "4          0     4    11      5       8  ...       6      0       8      9       7\n",
            "...      ...   ...   ...    ...     ...  ...     ...    ...     ...    ...     ...\n",
            "19994      0     2     2      3       3  ...       4      2       8      3       7\n",
            "19995      0     7    10      8       8  ...      13      2       9      3       7\n",
            "19996      0     6     9      6       7  ...       5      2      12      2       4\n",
            "19997      0     2     3      4       2  ...       8      1       9      5       8\n",
            "19998      1     4     9      6       6  ...       8      2       7      2       8\n",
            "\n",
            "[19999 rows x 17 columns]\n"
          ],
          "name": "stdout"
        }
      ]
    },
    {
      "cell_type": "code",
      "metadata": {
        "colab": {
          "base_uri": "https://localhost:8080/"
        },
        "id": "b6akI5f80FId",
        "outputId": "f2ed782c-0479-401d-885e-c3d24f2c1e89"
      },
      "source": [
        "# DIVIDING THE DATA INTO TWO CLASS\n",
        "# 1. Target Class Data - Label Field 1\n",
        "# 2. Outlier Data - Label FIeld 0\n",
        "\n",
        "targetClassData = letters.loc[letters['label'] == 1]\n",
        "print(\"---------- Target Class Data ----------\")\n",
        "print()\n",
        "print(targetClassData)\n",
        "\n",
        "outlierData = letters.loc[letters['label'] == 0]\n",
        "print(\"---------- Outlier Data ----------\")\n",
        "print()\n",
        "print(outlierData)"
      ],
      "execution_count": 10,
      "outputs": [
        {
          "output_type": "stream",
          "text": [
            "---------- Target Class Data ----------\n",
            "\n",
            "       label  xbox  ybox  width  height  ...  xy2bar  xedge  xedgey  yedge  yedgex\n",
            "6          1     1     1      3       2  ...       8      1       6      2       7\n",
            "77         1     3     7      5       5  ...       9      2       6      3       8\n",
            "117        1     3     8      5       6  ...       8      2       6      3       7\n",
            "129        1     2     1      4       2  ...       8      2       5      2       7\n",
            "133        1     3     7      5       5  ...       9      2       4      2       7\n",
            "...      ...   ...   ...    ...     ...  ...     ...    ...     ...    ...     ...\n",
            "19892      1     3     7      4       5  ...       8      2       7      1       7\n",
            "19950      1     6    10      7       6  ...      12      4       4      3      11\n",
            "19965      1     2     3      3       1  ...       8      1       6      1       7\n",
            "19976      1     3     9      5       6  ...       8      2       7      2       7\n",
            "19998      1     4     9      6       6  ...       8      2       7      2       8\n",
            "\n",
            "[789 rows x 17 columns]\n",
            "---------- Outlier Data ----------\n",
            "\n",
            "       label  xbox  ybox  width  height  ...  xy2bar  xedge  xedgey  yedge  yedgex\n",
            "0          0     5    12      3       7  ...       9      2       8      4      10\n",
            "1          0     4    11      6       8  ...       7      3       7      3       9\n",
            "2          0     7    11      6       6  ...      10      6      10      2       8\n",
            "3          0     2     1      3       1  ...       9      1       7      5      10\n",
            "4          0     4    11      5       8  ...       6      0       8      9       7\n",
            "...      ...   ...   ...    ...     ...  ...     ...    ...     ...    ...     ...\n",
            "19993      0     5     8      7       7  ...       8      3      10      8       6\n",
            "19994      0     2     2      3       3  ...       4      2       8      3       7\n",
            "19995      0     7    10      8       8  ...      13      2       9      3       7\n",
            "19996      0     6     9      6       7  ...       5      2      12      2       4\n",
            "19997      0     2     3      4       2  ...       8      1       9      5       8\n",
            "\n",
            "[19210 rows x 17 columns]\n"
          ],
          "name": "stdout"
        }
      ]
    },
    {
      "cell_type": "code",
      "metadata": {
        "id": "7wb055El00Of"
      },
      "source": [
        "# TESTING OF DATASETS FOR DIFFERENT NOISE LEVELS"
      ],
      "execution_count": 11,
      "outputs": []
    },
    {
      "cell_type": "code",
      "metadata": {
        "id": "d8p3nfb8049g"
      },
      "source": [
        "# Initializing the constants\n",
        "alpha = 0.5\n",
        "beta = 0.02\n",
        "gamma = 0.05\n",
        "nu = 0.05"
      ],
      "execution_count": 12,
      "outputs": []
    },
    {
      "cell_type": "code",
      "metadata": {
        "colab": {
          "base_uri": "https://localhost:8080/"
        },
        "id": "7LD7NVod1PZc",
        "outputId": "ff847d58-6334-46cf-bf1f-4e9641539903"
      },
      "source": [
        "# FOR NOISE LEVEL = 2%\n",
        "# TRAINING\n",
        "outlierPercent = 2\n",
        "m = len(targetClassData)\n",
        "numOfOutliers = m*outlierPercent \n",
        "includedOutliers = outlierData.sample(n = numOfOutliers)\n",
        "\n",
        "data = targetClassData.append(includedOutliers)\n",
        "print(data)\n",
        "\n",
        "x = data.drop('label',1)\n",
        "y = data['label']\n",
        "\n",
        "trainingX,testingX,trainingY,testingY = tts(x,y,test_size = 0.33,random_state = 729)"
      ],
      "execution_count": 13,
      "outputs": [
        {
          "output_type": "stream",
          "text": [
            "       label  xbox  ybox  width  height  ...  xy2bar  xedge  xedgey  yedge  yedgex\n",
            "6          1     1     1      3       2  ...       8      1       6      2       7\n",
            "77         1     3     7      5       5  ...       9      2       6      3       8\n",
            "117        1     3     8      5       6  ...       8      2       6      3       7\n",
            "129        1     2     1      4       2  ...       8      2       5      2       7\n",
            "133        1     3     7      5       5  ...       9      2       4      2       7\n",
            "...      ...   ...   ...    ...     ...  ...     ...    ...     ...    ...     ...\n",
            "3748       0     2     7      3       5  ...      14      0       8      7       8\n",
            "1887       0     5     9      5       7  ...      10      3       8      4       6\n",
            "4557       0     3     7      4       5  ...       8      2       8      4       8\n",
            "18351      0     4     9      5       7  ...       8      2       7      6      11\n",
            "969        0     1     0      1       1  ...       7      0       8      2       8\n",
            "\n",
            "[2367 rows x 17 columns]\n"
          ],
          "name": "stdout"
        }
      ]
    },
    {
      "cell_type": "code",
      "metadata": {
        "colab": {
          "base_uri": "https://localhost:8080/"
        },
        "id": "sUKFHB9B2e6c",
        "outputId": "8141f5b5-00a4-4ba9-fd63-7b6e7647546f"
      },
      "source": [
        "# FOR NOISE LEVEL = 2%\n",
        "# TESTING\n",
        "\n",
        "classify = oneClassClassification(alpha,beta,gamma,nu)\n",
        "classify.fitFunc(trainingX,trainingY)\n",
        "\n",
        "predictedY = classify.predict(testingX)\n",
        "report = classification_report(testingY,predictedY)\n",
        "\n",
        "print(\"Classification report for noise level = 2 % ----------\")\n",
        "print()\n",
        "print()\n",
        "print(report)\n",
        "print()"
      ],
      "execution_count": 14,
      "outputs": [
        {
          "output_type": "stream",
          "text": [
            "Classification report for noise level = 2 % ----------\n",
            "\n",
            "\n",
            "              precision    recall  f1-score   support\n",
            "\n",
            "           0       0.00      0.00      0.00       544\n",
            "           1       0.30      1.00      0.47       238\n",
            "\n",
            "    accuracy                           0.30       782\n",
            "   macro avg       0.15      0.50      0.23       782\n",
            "weighted avg       0.09      0.30      0.14       782\n",
            "\n",
            "\n"
          ],
          "name": "stdout"
        }
      ]
    },
    {
      "cell_type": "code",
      "metadata": {
        "colab": {
          "base_uri": "https://localhost:8080/"
        },
        "id": "N3CVu0-F8wGg",
        "outputId": "2a14f511-3fdc-4af3-dc4d-fe6d316dc717"
      },
      "source": [
        "# FOR NOISE LEVEL = 5%\n",
        "# TRAINING\n",
        "outlierPercent = 5\n",
        "m = len(targetClassData)\n",
        "numOfOutliers = m*outlierPercent \n",
        "includedOutliers = outlierData.sample(n = numOfOutliers)\n",
        "\n",
        "data = targetClassData.append(includedOutliers)\n",
        "print(data)\n",
        "\n",
        "x = data.drop('label',1)\n",
        "y = data['label']\n",
        "\n",
        "trainingX,testingX,trainingY,testingY = tts(x,y,test_size = 0.33,random_state = 729)"
      ],
      "execution_count": 15,
      "outputs": [
        {
          "output_type": "stream",
          "text": [
            "       label  xbox  ybox  width  height  ...  xy2bar  xedge  xedgey  yedge  yedgex\n",
            "6          1     1     1      3       2  ...       8      1       6      2       7\n",
            "77         1     3     7      5       5  ...       9      2       6      3       8\n",
            "117        1     3     8      5       6  ...       8      2       6      3       7\n",
            "129        1     2     1      4       2  ...       8      2       5      2       7\n",
            "133        1     3     7      5       5  ...       9      2       4      2       7\n",
            "...      ...   ...   ...    ...     ...  ...     ...    ...     ...    ...     ...\n",
            "18941      0     7    13      8       7  ...       9      6       2      1       9\n",
            "4679       0     5     7      7       5  ...       8      3       6      5      11\n",
            "19261      0     4     5      6       7  ...       9      2       7      5      10\n",
            "18663      0     6    10      8       8  ...      11      3       8      3       7\n",
            "7608       0     4     2      5       4  ...       8      8       6      2       7\n",
            "\n",
            "[4734 rows x 17 columns]\n"
          ],
          "name": "stdout"
        }
      ]
    },
    {
      "cell_type": "code",
      "metadata": {
        "colab": {
          "base_uri": "https://localhost:8080/"
        },
        "id": "ccLnuIIG8_W9",
        "outputId": "c4a3af02-9cb6-46fe-e1e7-a594311831bb"
      },
      "source": [
        "# FOR NOISE LEVEL = 5%\n",
        "# TESTING\n",
        "\n",
        "classify = oneClassClassification(alpha,beta,gamma,nu)\n",
        "classify.fitFunc(trainingX,trainingY)\n",
        "\n",
        "predictedY = classify.predict(testingX)\n",
        "report = classification_report(testingY,predictedY)\n",
        "\n",
        "print(\"Classification report for noise level = 5 % ----------\")\n",
        "print()\n",
        "print()\n",
        "print(report)\n",
        "print()"
      ],
      "execution_count": 16,
      "outputs": [
        {
          "output_type": "stream",
          "text": [
            "Classification report for noise level = 2 % ----------\n",
            "\n",
            "\n",
            "              precision    recall  f1-score   support\n",
            "\n",
            "           0       0.00      0.00      0.00      1320\n",
            "           1       0.16      1.00      0.27       243\n",
            "\n",
            "    accuracy                           0.16      1563\n",
            "   macro avg       0.08      0.50      0.13      1563\n",
            "weighted avg       0.02      0.16      0.04      1563\n",
            "\n",
            "\n"
          ],
          "name": "stdout"
        }
      ]
    },
    {
      "cell_type": "code",
      "metadata": {
        "colab": {
          "base_uri": "https://localhost:8080/"
        },
        "id": "I1ozWqtf9C7D",
        "outputId": "8629f210-a2e1-4132-e04f-705180e22b71"
      },
      "source": [
        "# FOR NOISE LEVEL = 10%\n",
        "# TRAINING\n",
        "outlierPercent = 10\n",
        "m = len(targetClassData)\n",
        "numOfOutliers = m*outlierPercent \n",
        "includedOutliers = outlierData.sample(n = numOfOutliers)\n",
        "\n",
        "data = targetClassData.append(includedOutliers)\n",
        "print(data)\n",
        "\n",
        "x = data.drop('label',1)\n",
        "y = data['label']\n",
        "\n",
        "trainingX,testingX,trainingY,testingY = tts(x,y,test_size = 0.33,random_state = 729)"
      ],
      "execution_count": 17,
      "outputs": [
        {
          "output_type": "stream",
          "text": [
            "       label  xbox  ybox  width  height  ...  xy2bar  xedge  xedgey  yedge  yedgex\n",
            "6          1     1     1      3       2  ...       8      1       6      2       7\n",
            "77         1     3     7      5       5  ...       9      2       6      3       8\n",
            "117        1     3     8      5       6  ...       8      2       6      3       7\n",
            "129        1     2     1      4       2  ...       8      2       5      2       7\n",
            "133        1     3     7      5       5  ...       9      2       4      2       7\n",
            "...      ...   ...   ...    ...     ...  ...     ...    ...     ...    ...     ...\n",
            "16605      0     3     2      5       4  ...       8      2       8      3       8\n",
            "18277      0     1    10      0       7  ...       8      0       8      0       8\n",
            "14843      0     5     9      7       7  ...       8      7       7      5       3\n",
            "2836       0     2     4      4       3  ...       7      1       8      5       8\n",
            "8695       0     6     8      6       6  ...      11      2       9      4       9\n",
            "\n",
            "[8679 rows x 17 columns]\n"
          ],
          "name": "stdout"
        }
      ]
    },
    {
      "cell_type": "code",
      "metadata": {
        "colab": {
          "base_uri": "https://localhost:8080/"
        },
        "id": "TK0oHO3U9DHp",
        "outputId": "10505cea-8095-4870-8f42-40c42c403e0c"
      },
      "source": [
        "# FOR NOISE LEVEL = 10%\n",
        "# TESTING\n",
        "\n",
        "classify = oneClassClassification(alpha,beta,gamma,nu)\n",
        "classify.fitFunc(trainingX,trainingY)\n",
        "\n",
        "predictedY = classify.predict(testingX)\n",
        "report = classification_report(testingY,predictedY)\n",
        "\n",
        "print(\"Classification report for noise level = 10 % ----------\")\n",
        "print()\n",
        "print()\n",
        "print(report)\n",
        "print()"
      ],
      "execution_count": 18,
      "outputs": [
        {
          "output_type": "stream",
          "text": [
            "Classification report for noise level = 10 % ----------\n",
            "\n",
            "\n",
            "              precision    recall  f1-score   support\n",
            "\n",
            "           0       0.00      0.00      0.00      2618\n",
            "           1       0.09      1.00      0.16       247\n",
            "\n",
            "    accuracy                           0.09      2865\n",
            "   macro avg       0.04      0.50      0.08      2865\n",
            "weighted avg       0.01      0.09      0.01      2865\n",
            "\n",
            "\n"
          ],
          "name": "stdout"
        }
      ]
    },
    {
      "cell_type": "code",
      "metadata": {
        "colab": {
          "base_uri": "https://localhost:8080/"
        },
        "id": "shq8jYrT9DS4",
        "outputId": "49d2673c-056f-4785-899e-5624cb1731a8"
      },
      "source": [
        "# FOR NOISE LEVEL = 15%\n",
        "# TRAINING\n",
        "outlierPercent = 15\n",
        "m = len(targetClassData)\n",
        "numOfOutliers = m*outlierPercent \n",
        "includedOutliers = outlierData.sample(n = numOfOutliers)\n",
        "\n",
        "data = targetClassData.append(includedOutliers)\n",
        "print(data)\n",
        "\n",
        "x = data.drop('label',1)\n",
        "y = data['label']\n",
        "\n",
        "trainingX,testingX,trainingY,testingY = tts(x,y,test_size = 0.33,random_state = 729)"
      ],
      "execution_count": 19,
      "outputs": [
        {
          "output_type": "stream",
          "text": [
            "       label  xbox  ybox  width  height  ...  xy2bar  xedge  xedgey  yedge  yedgex\n",
            "6          1     1     1      3       2  ...       8      1       6      2       7\n",
            "77         1     3     7      5       5  ...       9      2       6      3       8\n",
            "117        1     3     8      5       6  ...       8      2       6      3       7\n",
            "129        1     2     1      4       2  ...       8      2       5      2       7\n",
            "133        1     3     7      5       5  ...       9      2       4      2       7\n",
            "...      ...   ...   ...    ...     ...  ...     ...    ...     ...    ...     ...\n",
            "16616      0     4     4      6       3  ...       8      7       5      2       8\n",
            "4985       0     7     9      6       7  ...       7      3      10      1       7\n",
            "19155      0     9     9     12       8  ...       7     12       9      7       3\n",
            "3275       0     6     8      6       6  ...       8      4      12      1       7\n",
            "17060      0     2     3      2       2  ...       6      2       7      4       8\n",
            "\n",
            "[12624 rows x 17 columns]\n"
          ],
          "name": "stdout"
        }
      ]
    },
    {
      "cell_type": "code",
      "metadata": {
        "colab": {
          "base_uri": "https://localhost:8080/"
        },
        "id": "0l3cIcc09Dc8",
        "outputId": "390c1a42-6236-4b96-a74e-7fc77f7df250"
      },
      "source": [
        "# FOR NOISE LEVEL = 15%\n",
        "# TESTING\n",
        "\n",
        "classify = oneClassClassification(alpha,beta,gamma,nu)\n",
        "classify.fitFunc(trainingX,trainingY)\n",
        "\n",
        "predictedY = classify.predict(testingX)\n",
        "report = classification_report(testingY,predictedY)\n",
        "\n",
        "print(\"Classification report for noise level = 15 % ----------\")\n",
        "print()\n",
        "print()\n",
        "print(report)\n",
        "print()"
      ],
      "execution_count": 20,
      "outputs": [
        {
          "output_type": "stream",
          "text": [
            "Classification report for noise level = 15 % ----------\n",
            "\n",
            "\n",
            "              precision    recall  f1-score   support\n",
            "\n",
            "           0       0.00      0.00      0.00      3898\n",
            "           1       0.06      1.00      0.12       268\n",
            "\n",
            "    accuracy                           0.06      4166\n",
            "   macro avg       0.03      0.50      0.06      4166\n",
            "weighted avg       0.00      0.06      0.01      4166\n",
            "\n",
            "\n"
          ],
          "name": "stdout"
        }
      ]
    }
  ]
}