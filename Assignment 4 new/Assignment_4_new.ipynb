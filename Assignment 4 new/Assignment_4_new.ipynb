{
  "nbformat": 4,
  "nbformat_minor": 0,
  "metadata": {
    "colab": {
      "name": "Assignment7.ipynb",
      "provenance": [],
      "collapsed_sections": []
    },
    "kernelspec": {
      "name": "python3",
      "display_name": "Python 3"
    },
    "language_info": {
      "name": "python"
    }
  },
  "cells": [
    {
      "cell_type": "code",
      "metadata": {
        "id": "OfzkUtMY4tOp"
      },
      "source": [
        "import pandas as pd\n",
        "import cvxpy as cp\n",
        "import numpy as np\n"
      ],
      "execution_count": 287,
      "outputs": []
    },
    {
      "cell_type": "code",
      "metadata": {
        "id": "L7VEhJx4WFbX"
      },
      "source": [
        "from sklearn.metrics.pairwise import chi2_kernel"
      ],
      "execution_count": 288,
      "outputs": []
    },
    {
      "cell_type": "code",
      "metadata": {
        "id": "cptFLxjBYHyD"
      },
      "source": [
        "class KernelManager:\n",
        "  def __init__(self, xTrain, yTrain, xTest, yTest):\n",
        "    self.xTrain = xTrain\n",
        "    self.yTrain = yTrain\n",
        "    self.xTest = xTest\n",
        "    self.yTest = yTest\n",
        "\n",
        "  def linear_kernel(x1, x2):\n",
        "    return np.dot(x1, x2)\n",
        "\n",
        "  def polynomial_kernel(x, y, p=3):\n",
        "    return (1 + np.dot(x, y)) ** p\n",
        "\n",
        "  def gaussian_kernel(x, y, sigma=5.0):\n",
        "    return np.exp(-np.linalg.norm(x-y)**2 / (2 * (sigma ** 2)))\n",
        "\n",
        "  def hellinger_kernel(X1, X2):\n",
        "    X1,X2 = np.sqrt(X1),np.sqrt(X2)\n",
        "    return X1 @ X2\n",
        "\n",
        "  def chi_square_kernel(x,y):\n",
        "    sum = 0.0\n",
        "\n",
        "    for i in range(len(x)):\n",
        "      if (x[i]+y[i]) != 0:\n",
        "        sum += (2*x[i]*y[i])/(x[i]+y[i])\n",
        "    \n",
        "    return sum\n",
        "\n",
        "  def intersection_kernel(x,y):\n",
        "    sum = 0.0\n",
        "\n",
        "    for i in range(len(x)):\n",
        "      sum += min(x[i],y[i])\n",
        "    return sum\n",
        "\n",
        "  def findAccuracy(self, modelLinear, initialText):\n",
        "    modelLinear.fit(self.xTrain, self.yTrain)\n",
        "    y_pred = modelLinear.predict(self.xTest)\n",
        "    accuracy = metrics.accuracy_count(y_true=self.yTest, y_pred=y_pred)\n",
        "    print(initialText, accuracy, \"\\n\") \n",
        "    return accuracy\n",
        "  "
      ],
      "execution_count": 289,
      "outputs": []
    },
    {
      "cell_type": "code",
      "metadata": {
        "id": "rfu5SXPY_YJX"
      },
      "source": [
        "data = pd.read_csv(\"/content/letter-recognition.csv\")\n",
        "data.columns = ['letter', 'xbox', 'ybox', 'width', 'height', 'onpix', 'xbar','ybar', 'x2bar', 'y2bar', 'xybar', 'x2ybar', 'xy2bar', 'xedge','xedgey', 'yedge', 'yedgex']"
      ],
      "execution_count": 290,
      "outputs": []
    },
    {
      "cell_type": "code",
      "metadata": {
        "id": "rzMVHNBx36qO"
      },
      "source": [
        "for i in range(1,17):\n",
        "  colummn = data.columns[i]\n",
        "  maxx = max(data[colummn])\n",
        "  minn = min(data[colummn])\n",
        "  d = maxx - minn\n",
        "  data[colummn] -= minn\n",
        "  data[colummn] /= d\n"
      ],
      "execution_count": 291,
      "outputs": []
    },
    {
      "cell_type": "code",
      "metadata": {
        "id": "WedCfJHD_dkG"
      },
      "source": [
        "dataA_df = data.loc[data['letter']=='A']\n",
        "total = len(dataA_df)\n",
        "train = int(0.8*total)    # number of A samples in training\n",
        "test = total -train       # number of A samples in testing\n",
        "dataA = []\n",
        "\n",
        "for i in range(total):\n",
        "  temp = []\n",
        "  for j in range(1,17,1):\n",
        "    temp.append(dataA_df.iloc[i,j])\n",
        "  dataA.append(temp)\n",
        "\n",
        "dataA = np.array(dataA)"
      ],
      "execution_count": 292,
      "outputs": []
    },
    {
      "cell_type": "code",
      "metadata": {
        "id": "qve9p-roCNtX",
        "colab": {
          "base_uri": "https://localhost:8080/"
        },
        "outputId": "82483b3e-f6a5-48e2-b1ed-ecda0f51b158"
      },
      "source": [
        "train_X = dataA[0:train]\n",
        "print(train_X,train_X.shape)"
      ],
      "execution_count": 293,
      "outputs": [
        {
          "output_type": "stream",
          "text": [
            "[[0.06666667 0.06666667 0.2        ... 0.4        0.13333333 0.46666667]\n",
            " [0.2        0.46666667 0.33333333 ... 0.4        0.2        0.53333333]\n",
            " [0.2        0.53333333 0.33333333 ... 0.4        0.2        0.46666667]\n",
            " ...\n",
            " [0.2        0.53333333 0.33333333 ... 0.46666667 0.06666667 0.53333333]\n",
            " [0.06666667 0.         0.13333333 ... 0.46666667 0.06666667 0.53333333]\n",
            " [0.13333333 0.2        0.2        ... 0.4        0.06666667 0.53333333]] (631, 16)\n"
          ],
          "name": "stdout"
        }
      ]
    },
    {
      "cell_type": "code",
      "metadata": {
        "id": "g8A2SO4oCevU",
        "colab": {
          "base_uri": "https://localhost:8080/"
        },
        "outputId": "d875f4b8-ab57-4021-875e-3430e25971a2"
      },
      "source": [
        "test_X = dataA[train:]\n",
        "test_Y = [1]*test\n",
        "\n",
        "# including 5 samples each of remaining alphabets\n",
        "for i in range(1,26,1):\n",
        "  c = chr(i+ord('A'))\n",
        "  c_df = data.loc[data['letter']==c][0:5]\n",
        "  del c_df['letter']\n",
        "  c_df = c_df.to_numpy()\n",
        "  for j in c_df:\n",
        "    test_X = np.vstack((test_X,j))\n",
        "    test_Y.append(-1)\n",
        "\n",
        "test_Y = np.array(test_Y)\n",
        "print(test_X,test_X.shape)\n",
        "print(test_Y,test_Y.shape)"
      ],
      "execution_count": 294,
      "outputs": [
        {
          "output_type": "stream",
          "text": [
            "[[0.4        0.66666667 0.6        ... 0.53333333 0.53333333 0.26666667]\n",
            " [0.2        0.6        0.4        ... 0.46666667 0.26666667 0.33333333]\n",
            " [0.2        0.4        0.33333333 ... 0.4        0.13333333 0.53333333]\n",
            " ...\n",
            " [0.2        0.53333333 0.26666667 ... 0.53333333 0.53333333 0.53333333]\n",
            " [0.06666667 0.         0.06666667 ... 0.53333333 0.4        0.53333333]\n",
            " [0.4        0.66666667 0.53333333 ... 0.46666667 0.4        0.6       ]] (283, 16)\n",
            "[ 1  1  1  1  1  1  1  1  1  1  1  1  1  1  1  1  1  1  1  1  1  1  1  1\n",
            "  1  1  1  1  1  1  1  1  1  1  1  1  1  1  1  1  1  1  1  1  1  1  1  1\n",
            "  1  1  1  1  1  1  1  1  1  1  1  1  1  1  1  1  1  1  1  1  1  1  1  1\n",
            "  1  1  1  1  1  1  1  1  1  1  1  1  1  1  1  1  1  1  1  1  1  1  1  1\n",
            "  1  1  1  1  1  1  1  1  1  1  1  1  1  1  1  1  1  1  1  1  1  1  1  1\n",
            "  1  1  1  1  1  1  1  1  1  1  1  1  1  1  1  1  1  1  1  1  1  1  1  1\n",
            "  1  1  1  1  1  1  1  1  1  1  1  1  1  1 -1 -1 -1 -1 -1 -1 -1 -1 -1 -1\n",
            " -1 -1 -1 -1 -1 -1 -1 -1 -1 -1 -1 -1 -1 -1 -1 -1 -1 -1 -1 -1 -1 -1 -1 -1\n",
            " -1 -1 -1 -1 -1 -1 -1 -1 -1 -1 -1 -1 -1 -1 -1 -1 -1 -1 -1 -1 -1 -1 -1 -1\n",
            " -1 -1 -1 -1 -1 -1 -1 -1 -1 -1 -1 -1 -1 -1 -1 -1 -1 -1 -1 -1 -1 -1 -1 -1\n",
            " -1 -1 -1 -1 -1 -1 -1 -1 -1 -1 -1 -1 -1 -1 -1 -1 -1 -1 -1 -1 -1 -1 -1 -1\n",
            " -1 -1 -1 -1 -1 -1 -1 -1 -1 -1 -1 -1 -1 -1 -1 -1 -1 -1 -1] (283,)\n"
          ],
          "name": "stdout"
        }
      ]
    },
    {
      "cell_type": "code",
      "metadata": {
        "id": "FEwJ1uUbXYP8"
      },
      "source": [
        "manager = KernelManager(train_X,pred_Y, test_X, test_Y)"
      ],
      "execution_count": 295,
      "outputs": []
    },
    {
      "cell_type": "code",
      "metadata": {
        "id": "DrOdee9O6pC_"
      },
      "source": [
        "def kernel_matrix(X,kernel=linear_kernel):\n",
        "  m = X.shape[0]\n",
        "  K = np.zeros((m,m))\n",
        "  for i in range(m):\n",
        "    for j in range(m):\n",
        "      K[i,j] = kernel(X[i], X[j])\n",
        "  \n",
        "  return K"
      ],
      "execution_count": 296,
      "outputs": []
    },
    {
      "cell_type": "code",
      "metadata": {
        "id": "rCXCPrRo3Jtf",
        "colab": {
          "base_uri": "https://localhost:8080/"
        },
        "outputId": "636a96e0-4d8b-498b-e9ff-add6cbad0af0"
      },
      "source": [
        "kernel_matrix(train_X,KernelManager.hellinger_kernel)"
      ],
      "execution_count": 297,
      "outputs": [
        {
          "output_type": "execute_result",
          "data": {
            "text/plain": [
              "array([[3.73333333, 4.4112756 , 4.22853921, ..., 4.02657957, 3.43691428,\n",
              "        3.89152273],\n",
              "       [4.4112756 , 5.46666667, 5.27764618, ..., 5.03454465, 3.91234393,\n",
              "        4.68337527],\n",
              "       [4.22853921, 5.27764618, 5.13333333, ..., 4.88078713, 3.68341075,\n",
              "        4.48244205],\n",
              "       ...,\n",
              "       [4.02657957, 5.03454465, 4.88078713, ..., 4.93333333, 3.63932105,\n",
              "        4.31316326],\n",
              "       [3.43691428, 3.91234393, 3.68341075, ..., 3.63932105, 3.46666667,\n",
              "        3.59692613],\n",
              "       [3.89152273, 4.68337527, 4.48244205, ..., 4.31316326, 3.59692613,\n",
              "        4.13333333]])"
            ]
          },
          "metadata": {
            "tags": []
          },
          "execution_count": 297
        }
      ]
    },
    {
      "cell_type": "code",
      "metadata": {
        "id": "-2f05658rPbt"
      },
      "source": [
        "m = len(train_X)\n",
        "v1,v2 = 0.9,0.9\n",
        "e = 2/3\n",
        "c1,c2 = 1/(v1*m),e/(v2*m)"
      ],
      "execution_count": 298,
      "outputs": []
    },
    {
      "cell_type": "code",
      "metadata": {
        "id": "uhTnLjUK71Sj"
      },
      "source": [
        "def optimize(train_X,c1,c2,e,kernel=linear_kernel):\n",
        "\n",
        "  m = len(train_X)     # number of samples\n",
        "  n = len(train_X[0])  # number of features in one samples\n",
        "\n",
        "  alpha = cp.Variable(m)\n",
        "  alpha1 = cp.Variable(m)\n",
        "\n",
        "  A1 = np.ones((1,m))\n",
        "  b1 = np.array([1])\n",
        "  b2 = np.array([e])\n",
        "\n",
        "  G = np.eye(m)\n",
        "  h = np.full((m,),0)\n",
        "  h1 = np.full((m,),c1)\n",
        "  h2 = np.full((m,),c2)\n",
        "  G1 = -np.eye(m)\n",
        "\n",
        "  K = kernel_matrix(train_X,kernel)\n",
        "\n",
        "  prob = cp.Problem(cp.Minimize((1/2)*cp.quad_form((alpha-alpha1),K)),\n",
        "                    [A1 @ alpha == b1,\n",
        "                    A1 @ alpha1 == b2,\n",
        "                    G @ alpha <= h1,\n",
        "                    G @ alpha1 <=h2,\n",
        "                    G1 @ alpha <= h,\n",
        "                    G1 @ alpha1 <= h])\n",
        "  prob.solve()\n",
        "  # print(prob.status+\" Solution found\")\n",
        "\n",
        "  alpha = alpha.value\n",
        "  alpha1 = alpha1.value\n",
        "\n",
        "  return alpha,alpha1"
      ],
      "execution_count": 299,
      "outputs": []
    },
    {
      "cell_type": "code",
      "metadata": {
        "id": "RE-EKv8hABTU"
      },
      "source": [
        "def bias_find(alpha,alpha1,c1,c2,X,kernel=linear_kernel):\n",
        "\n",
        "  m = X.shape[0]\n",
        "\n",
        "  n = 0 \n",
        "  sum = 0\n",
        "\n",
        "  for i in range(m):\n",
        "    if (alpha[i]>0 and alpha[i]<c1):\n",
        "      n+=1\n",
        "      for j in range(m):\n",
        "        sum += ((alpha[j]-alpha1[j])*kernel(X[i],X[j]))\n",
        "  \n",
        "  sum = sum/n;\n",
        "  p1 = sum\n",
        "\n",
        "  n = 0 \n",
        "  sum = 0.0\n",
        "\n",
        "  for i in range(m):\n",
        "    if (alpha1[i]>0 and alpha1[i]<c2):\n",
        "      n+=1\n",
        "      for j in range(m):\n",
        "        sum += ((alpha[j]-alpha1[j])*kernel(X[i],X[j]))\n",
        "  \n",
        "  sum = sum/n;\n",
        "\n",
        "  p2=sum\n",
        "\n",
        "  return p1,p2"
      ],
      "execution_count": 300,
      "outputs": []
    },
    {
      "cell_type": "code",
      "metadata": {
        "id": "rQqaqLHV7ZcL"
      },
      "source": [
        "def svm_count(x,train_X,alpha,alpha1,kernel=linear_kernel):\n",
        "  m = train_X.shape[0] \n",
        "  count = 0.0\n",
        "\n",
        "  for i in range(m):\n",
        "    count += (alpha[i]-alpha1[i])*kernel(x,train_X[i])\n",
        "  \n",
        "  return count"
      ],
      "execution_count": 301,
      "outputs": []
    },
    {
      "cell_type": "code",
      "metadata": {
        "id": "oWpuQTBx8xS5"
      },
      "source": [
        "def predict(x,train_X,p1,p2,alpha,alpha1,kernel=linear_kernel):\n",
        "\n",
        "  count = svm_count(x,train_X,alpha,alpha1,kernel)\n",
        "  return np.sign((count-p1)*(p2-count))"
      ],
      "execution_count": 302,
      "outputs": []
    },
    {
      "cell_type": "code",
      "metadata": {
        "id": "bUd42kOW628l",
        "colab": {
          "base_uri": "https://localhost:8080/"
        },
        "outputId": "dfc2a7e6-6c3a-4b44-cb54-2511a70ce10e"
      },
      "source": [
        "#Using Linear Kernel\n",
        "from sklearn.metrics import matthews_corrcoef\n",
        "\n",
        "alpha,alpha1 = optimize(train_X,c1,c2,e,linear_kernel)\n",
        "p1,p2 = bias_find(alpha,alpha1,c1,c2,train_X,linear_kernel)\n",
        "\n",
        "pred_Y = []\n",
        "total_test = len(test_Y)\n",
        "correct = 0\n",
        "\n",
        "for i in range(total_test):\n",
        "  res = predict(test_X[i],train_X,p1,p2,alpha,alpha1,linear_kernel)\n",
        "  pred_Y.append(int(res))\n",
        "\n",
        "print(\"correlation coefficient Using Intersection Kernel is :\", matthews_corrcoef(test_Y, pred_Y))"
      ],
      "execution_count": 303,
      "outputs": [
        {
          "output_type": "stream",
          "text": [
            "correlation coefficient Using Intersection Kernel is : 0.1654787361413416\n"
          ],
          "name": "stdout"
        }
      ]
    },
    {
      "cell_type": "code",
      "metadata": {
        "id": "QZtbaOBNNCUd",
        "colab": {
          "base_uri": "https://localhost:8080/"
        },
        "outputId": "5b367bbf-7c8a-4cdb-ab06-852c1f25593d"
      },
      "source": [
        "#Using Polynomial Kernel\n",
        "from sklearn.metrics import matthews_corrcoef\n",
        "\n",
        "alpha,alpha1 = optimize(train_X,c1,c2,e,polynomial_kernel)\n",
        "p1,p2 = bias_find(alpha,alpha1,c1,c2,train_X,polynomial_kernel)\n",
        "\n",
        "pred_Y = []\n",
        "total_test = len(test_Y)\n",
        "correct = 0\n",
        "for i in range(total_test):\n",
        "  \n",
        "  res = predict(test_X[i],train_X,p1,p2,alpha,alpha1,polynomial_kernel)\n",
        "  pred_Y.append(int(res))\n",
        "print(\"correlation coefficient Using Intersection Kernel is :\", matthews_corrcoef(test_Y, pred_Y))"
      ],
      "execution_count": 304,
      "outputs": [
        {
          "output_type": "stream",
          "text": [
            "correlation coefficient Using Intersection Kernel is : 0.21619143781205985\n"
          ],
          "name": "stdout"
        }
      ]
    },
    {
      "cell_type": "code",
      "metadata": {
        "id": "sptwwr0qNR7K",
        "colab": {
          "base_uri": "https://localhost:8080/"
        },
        "outputId": "e90a0070-c8cf-4590-f6ee-65c1cf3d487c"
      },
      "source": [
        "#Using Gaussian Kernel\n",
        "from sklearn.metrics import matthews_corrcoef\n",
        "\n",
        "alpha,alpha1 = optimize(train_X,c1,c2,e,gaussian_kernel)\n",
        "p1,p2 = bias_find(alpha,alpha1,c1,c2,train_X,gaussian_kernel)\n",
        "\n",
        "pred_Y = []\n",
        "total_test = len(test_Y)\n",
        "correct = 0\n",
        "for i in range(total_test):\n",
        "  \n",
        "  res = predict(test_X[i],train_X,p1,p2,alpha,alpha1,gaussian_kernel)\n",
        "  pred_Y.append(int(res))\n",
        "print(\"correlation coefficient Using Intersection Kernel is :\", matthews_corrcoef(test_Y, pred_Y))"
      ],
      "execution_count": 305,
      "outputs": [
        {
          "output_type": "stream",
          "text": [
            "correlation coefficient Using Intersection Kernel is : -0.1873314482020479\n"
          ],
          "name": "stdout"
        }
      ]
    },
    {
      "cell_type": "code",
      "metadata": {
        "id": "njlVGnlX6zUc",
        "colab": {
          "base_uri": "https://localhost:8080/"
        },
        "outputId": "4c1b84f2-f09b-4df9-dc09-b184b88f966c"
      },
      "source": [
        "#using hellinger\n",
        "from sklearn.metrics import matthews_corrcoef\n",
        "\n",
        "alpha,alpha1 = optimize(train_X,c1,c2,e,hellinger_kernel)\n",
        "p1,p2 = bias_find(alpha,alpha1,c1,c2,train_X,hellinger_kernel)\n",
        "\n",
        "pred_Y = []\n",
        "total_test = len(test_Y)\n",
        "correct = 0\n",
        "for i in range(total_test):\n",
        "  \n",
        "  res = predict(test_X[i],train_X,p1,p2,alpha,alpha1,hellinger_kernel)\n",
        "  pred_Y.append(int(res))\n",
        "print(\"correlation coefficient Using Intersection Kernel is :\", matthews_corrcoef(test_Y, pred_Y))"
      ],
      "execution_count": 306,
      "outputs": [
        {
          "output_type": "stream",
          "text": [
            "correlation coefficient Using Intersection Kernel is : 0.21491918681694266\n"
          ],
          "name": "stdout"
        }
      ]
    },
    {
      "cell_type": "code",
      "metadata": {
        "id": "BgK9AnUn8JLm",
        "colab": {
          "base_uri": "https://localhost:8080/"
        },
        "outputId": "d13ddd34-a8a4-4d22-92f8-7a4ffcd0aaac"
      },
      "source": [
        "#Using Chi square Kernel\n",
        "from sklearn.metrics import matthews_corrcoef\n",
        "\n",
        "alpha,alpha1 = optimize(train_X,c1,c2,e,chi_square_kernel)\n",
        "p1,p2 = bias_find(alpha,alpha1,c1,c2,train_X,chi_square_kernel)\n",
        "\n",
        "pred_Y = []\n",
        "total_test = len(test_Y)\n",
        "correct = 0\n",
        "for i in range(total_test):\n",
        "  \n",
        "  res = predict(test_X[i],train_X,p1,p2,alpha,alpha1,chi_square_kernel)\n",
        "  pred_Y.append(int(res))\n",
        "print(\"correlation coefficient Using Intersection Kernel is :\", matthews_corrcoef(test_Y, pred_Y))"
      ],
      "execution_count": 307,
      "outputs": [
        {
          "output_type": "stream",
          "text": [
            "correlation coefficient Using Intersection Kernel is : 0.26520668302954026\n"
          ],
          "name": "stdout"
        }
      ]
    },
    {
      "cell_type": "code",
      "metadata": {
        "id": "CkE4sNK-MkgN",
        "colab": {
          "base_uri": "https://localhost:8080/"
        },
        "outputId": "ce3877c5-8e6a-46e2-8e97-12e3773eeea9"
      },
      "source": [
        "#Using Intersection Kernel\n",
        "from sklearn.metrics import matthews_corrcoef\n",
        "\n",
        "alpha,alpha1 = optimize(train_X,c1,c2,e,intersection_kernel)\n",
        "p1,p2 = bias_find(alpha,alpha1,c1,c2,train_X,intersection_kernel)\n",
        "\n",
        "pred_Y = []\n",
        "total_test = len(test_Y)\n",
        "correct = 0\n",
        "for i in range(total_test):\n",
        "  \n",
        "  res = predict(test_X[i],train_X,p1,p2,alpha,alpha1,intersection_kernel)\n",
        "  pred_Y.append(int(res))\n",
        "\n",
        "print(\"correlation coefficient Using Intersection Kernel is :\", matthews_corrcoef(test_Y, pred_Y))"
      ],
      "execution_count": 308,
      "outputs": [
        {
          "output_type": "stream",
          "text": [
            "correlation coefficient Using Intersection Kernel is : 0.17667648470710767\n"
          ],
          "name": "stdout"
        }
      ]
    }
  ]
}